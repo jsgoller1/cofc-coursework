{
 "cells": [
  {
   "cell_type": "code",
   "execution_count": 1,
   "id": "c1e9817c-078c-4ea3-af00-8b53a67f3807",
   "metadata": {},
   "outputs": [
    {
     "name": "stdout",
     "output_type": "stream",
     "text": [
      "Hello tutorial!\n"
     ]
    }
   ],
   "source": [
    "print(\"Hello tutorial!\")"
   ]
  },
  {
   "cell_type": "code",
   "execution_count": null,
   "id": "acd569cd-0283-43a4-a326-82b3a8988a0a",
   "metadata": {},
   "outputs": [],
   "source": []
  }
 ],
 "metadata": {
  "kernelspec": {
   "display_name": "Python 3 (ipykernel)",
   "language": "python",
   "name": "python3"
  },
  "language_info": {
   "codemirror_mode": {
    "name": "ipython",
    "version": 3
   },
   "file_extension": ".py",
   "mimetype": "text/x-python",
   "name": "python",
   "nbconvert_exporter": "python",
   "pygments_lexer": "ipython3",
   "version": "3.13.7"
  }
 },
 "nbformat": 4,
 "nbformat_minor": 5
}
